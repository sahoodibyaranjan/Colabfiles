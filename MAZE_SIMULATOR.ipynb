{
  "nbformat": 4,
  "nbformat_minor": 0,
  "metadata": {
    "colab": {
      "name": "MAZE_SIMULATOR.ipynb",
      "provenance": [],
      "mount_file_id": "1aKvt-OKSwCPitwxDLpNMotDGNdadoZqC",
      "authorship_tag": "ABX9TyPPR0VkXn92MdWEUFIYcopG",
      "include_colab_link": true
    },
    "kernelspec": {
      "name": "python3",
      "display_name": "Python 3"
    }
  },
  "cells": [
    {
      "cell_type": "markdown",
      "metadata": {
        "id": "view-in-github",
        "colab_type": "text"
      },
      "source": [
        "<a href=\"https://colab.research.google.com/github/sahoodibyaranjan/Colabfiles/blob/main/MAZE_SIMULATOR.ipynb\" target=\"_parent\"><img src=\"https://colab.research.google.com/assets/colab-badge.svg\" alt=\"Open In Colab\"/></a>"
      ]
    },
    {
      "cell_type": "code",
      "metadata": {
        "id": "h3WjZ2cbxYpN",
        "outputId": "4d3e2323-43df-4c2b-cb21-7cc5a2169992",
        "colab": {
          "base_uri": "https://localhost:8080/"
        }
      },
      "source": [
        "!pwd"
      ],
      "execution_count": 1,
      "outputs": [
        {
          "output_type": "stream",
          "text": [
            "/content\n"
          ],
          "name": "stdout"
        }
      ]
    },
    {
      "cell_type": "code",
      "metadata": {
        "id": "0XOKyIYVxm5r",
        "outputId": "322fa847-b5cf-4f96-cd75-ddeda7c4472d",
        "colab": {
          "base_uri": "https://localhost:8080/"
        }
      },
      "source": [
        "%cd /content/drive/My Drive/Colab Notebooks\n"
      ],
      "execution_count": 2,
      "outputs": [
        {
          "output_type": "stream",
          "text": [
            "/content/drive/My Drive/Colab Notebooks\n"
          ],
          "name": "stdout"
        }
      ]
    },
    {
      "cell_type": "code",
      "metadata": {
        "id": "B8wyY0adx_Ee",
        "outputId": "ab58564b-68b1-45c1-ac6f-32e966106009",
        "colab": {
          "base_uri": "https://localhost:8080/"
        }
      },
      "source": [
        "%ls"
      ],
      "execution_count": 3,
      "outputs": [
        {
          "output_type": "stream",
          "text": [
            "ANN_numpy.ipynb   maze_100.png  MAZE_SIMULATOR.ipynb  webscraping.ipynb\n",
            "image_test.ipynb  maze_10.png   Monalisa.ipynb\n",
            "image_test.py     maze_1.png    Untitled3.ipynb\n",
            "maze_0.png        maze_210.png  Untitled4.ipynb\n"
          ],
          "name": "stdout"
        }
      ]
    },
    {
      "cell_type": "code",
      "metadata": {
        "id": "Rh_0i3bPyIQE",
        "outputId": "e452a7a6-ea43-402a-bcbc-c3a1d13b5e1a",
        "colab": {
          "base_uri": "https://localhost:8080/"
        }
      },
      "source": [
        "!pwd"
      ],
      "execution_count": 4,
      "outputs": [
        {
          "output_type": "stream",
          "text": [
            "/content/drive/My Drive/Colab Notebooks\n"
          ],
          "name": "stdout"
        }
      ]
    },
    {
      "cell_type": "code",
      "metadata": {
        "id": "7eUZPKnCPxH1"
      },
      "source": [
        "import math\n",
        "from PIL import Image, ImageDraw\n",
        "from IPython.display import display\n",
        "\n",
        "scalefactor = 40\n",
        "border = 5\n",
        "markersize = 3\n",
        "Linewidth = 2\n",
        "\n",
        "def coord(x):\n",
        "  if type(x) is list:\n",
        "    return [coord(elem) for elem in x]\n",
        "  elif type(x) is tuple:\n",
        "    return tuple(coord(elem) for elem in x)\n",
        "  else:\n",
        "    return int(scalefactor*x) + border\n",
        "\n",
        "def marker(x):\n",
        "  return list(i - markersize for i in coord(x)) + list(i + markersize for i in coord(x))\n",
        "\n",
        "def showmaze(m,i):\n",
        "  width = m['dimensions'][0]\n",
        "  height = m['dimensions'][1]\n",
        "  img = Image.new('RGB', (int(width*scalefactor) + 2*border , int(height*scalefactor) + 2*border), 'white')\n",
        "  img1 = ImageDraw.Draw(img)\n",
        "  img1.rectangle(coord([0.0, 0.0, width, height]), None, 'black')\n",
        "  img1.ellipse(marker(m['position']), 'black')\n",
        "  img1.ellipse(marker(m['goal']), 'red')\n",
        "  for obstacle in m['obstacles']:\n",
        "    img1.line(coord(obstacle), 'black', Linewidth)\n",
        "  mazeNamePNG = \"maze_\" + str(i) + \".png\"\n",
        "  img.save(mazeNamePNG)\n",
        "  display(img)"
      ],
      "execution_count": 5,
      "outputs": []
    },
    {
      "cell_type": "code",
      "metadata": {
        "id": "Y_dZdD2XZJEz",
        "outputId": "828e0dec-cd5c-4ac5-bab7-53bafb0294eb",
        "colab": {
          "base_uri": "https://localhost:8080/",
          "height": 291
        }
      },
      "source": [
        "mediumMaze = {\n",
        "    'dimensions': (14.5, 6.6),\n",
        "\n",
        "    # obstacles are lines specified as [(x1,y1),(x2,y2)],\n",
        "    #   where (0,0) is the top-left corner of the world\n",
        "    # the four walls around the world are implicit and don't need to be specified\n",
        "    'obstacles': [[(2.5, 3.0),(12.0, 6.6)], [(5.1, 2.2), (6.2, 4.4)],\n",
        "                  [(9.0, 3.1), (10.8, 6.15)], [(12.0, 4.3), (13.5, 6.6)],\n",
        "                  [(3.3, 1.9), (5.3, 0.0)], [(7.2, 2.3), (9.6, 0.0)],\n",
        "                  [(10.6, 2.9), (13.3, 0.0)]],\n",
        "   \n",
        "    'position': (1.0, 1.0),\n",
        "    'heading': 0, # in radians. 0 is to the right (+x axis); increasing heading rotates clockwise\n",
        "    'goal': (13.5, 4.9),\n",
        "}\n",
        "\n",
        "showmaze(mediumMaze,0)"
      ],
      "execution_count": 6,
      "outputs": [
        {
          "output_type": "display_data",
          "data": {
            "image/png": "[encoded data removed]",
            "text/plain": [
              "<PIL.Image.Image image mode=RGB size=590x274 at 0x7FB76CCDE908>"
            ]
          },
          "metadata": {
            "tags": []
          }
        }
      ]
    },
    {
      "cell_type": "code",
      "metadata": {
        "id": "mASLl9S4kXgG",
        "outputId": "f9d28f3d-fd0d-45d2-d605-5dab40c99b01",
        "colab": {
          "base_uri": "https://localhost:8080/",
          "height": 367
        }
      },
      "source": [
        "hardMaze = {\n",
        "    'dimensions': (8.5, 8.5),\n",
        "\n",
        "    'obstacles': [[(0.0, 2.0), (2.4, 2.0)], [(2.4, 2.0), (5.7, 1.0)],\n",
        "                  [(2.4, 2.0), (2.4, 6.5)], [(0.0, 3.2), (1.4, 5.0)],\n",
        "                  [(2.4, 4.3), (6.8, 6.8)], [(3.3, 8.5), (4.7, 6.9)],\n",
        "                  [(3.6, 3.6), (8.5, 6.2)]],\n",
        "   \n",
        "    'position': (1.5, 7.8),\n",
        "    'heading': 0,\n",
        "    'goal': (1.5, 0.5),\n",
        "}\n",
        "\n",
        "showmaze(hardMaze,0)"
      ],
      "execution_count": 7,
      "outputs": [
        {
          "output_type": "display_data",
          "data": {
            "image/png": "[encoded data removed]",
            "text/plain": [
              "<PIL.Image.Image image mode=RGB size=350x350 at 0x7FB76BE1A780>"
            ]
          },
          "metadata": {
            "tags": []
          }
        }
      ]
    },
    {
      "cell_type": "code",
      "metadata": {
        "id": "Tn__nHQlg9Vo"
      },
      "source": [
        "from shapely.geometry import Point, LineString\n",
        "import copy\n",
        "\n",
        "def sqDistance(pos1, pos2):\n",
        "  return (pos1[0] - pos2[0])**2 + (pos1[1] - pos2[1])**2\n",
        "\n",
        "def isGoal(state):\n",
        "  return sqDistance(state['position'], state['goal']) < sqEpsilon\n",
        "\n",
        "# direction a given offset from the current heading, after normalizing (all in radians)\n",
        "def newHeading(currentHeading, amount):\n",
        "  return (currentHeading + amount) % (math.pi * 2.0)\n",
        "\n",
        "# distance to the nearest obstacle in a given direction\n",
        "def rangeSensor(pos, direction, obstacles, maxDist):\n",
        "  pos2 = (pos[0] + math.cos(direction) * maxDist,\n",
        "          pos[1] + math.sin(direction) * maxDist)\n",
        "  testray = LineString([pos, pos2])\n",
        "  collisions = [testray.intersection(obstacle) for obstacle in obstacles]\n",
        "  posPt = Point(pos[0], pos[1])\n",
        "  distances = [posPt.distance(c) for c in collisions if c]\n",
        "  return min(distances)\n",
        "\n"
      ],
      "execution_count": null,
      "outputs": []
    },
    {
      "cell_type": "code",
      "metadata": {
        "id": "fMYqNv2JGOq5",
        "outputId": "25bbbdb4-b946-4153-c68d-52bc5fda460f",
        "colab": {
          "base_uri": "https://localhost:8080/"
        }
      },
      "source": [
        "rangeSensorDirections= np.array([[-math.pi/2], [-math.pi/4], [0], [math.pi/4], [math.pi/2], [math.pi]])\n",
        "#rangeSensorDirections = np.array(x)\n",
        "#rangeSensorDirections.resize((6,5))\n",
        "x = np.pad(rangeSensorDirections, (0, 3), 'constant')\n",
        "print(x)\n",
        "print(rangeSensorDirections)\n",
        "#print(type(x))\n",
        "wedgeSensors =np.array([[0.0, 0.0, 1.0, 0.0], [0.0, 0.0, 0.0, 1.0], [1.0, 0.0, 0.0, 0.0], [0.0, 1.0, 0.0, 0.0]])\n",
        "#wedgeSensors.resize((5,6))\n",
        "#y = [[0.0, 0.0, 1.0, 0.0], [0.0, 0.0, 0.0, 1.0], [1.0, 0.0, 0.0, 0.0], [0.0, 1.0, 0.0, 0.0]]\n",
        "#wedgeSensors = np.array(y)\n",
        "#print(wedgeSensors)\n",
        "#sensors = rangeSensorDirections + wedgeSensors\n",
        "#np.pad(sensors, [(0, 1), (0, 1)], mode='constant', constant_values=0)\n",
        "#sensors = [[-math.pi/2, -math.pi/4, 0, math.pi/4, math.pi/2, math.pi],[0.0, 0.0, 1.0, 0.0], [0.0, 0.0, 0.0, 1.0], [1.0, 0.0, 0.0, 0.0], [0.0, 1.0, 0.0, 0.0]]\n",
        "#print(sensors)\n",
        "#result = np.zeros(wedgeSensors.shape)\n",
        "#result[:rangeSensorDirections.shape[0],:rangeSensorDirections.shape[1]] = rangeSensorDirections"
      ],
      "execution_count": 77,
      "outputs": [
        {
          "output_type": "stream",
          "text": [
            "[[-1.57079633  0.          0.          0.        ]\n",
            " [-0.78539816  0.          0.          0.        ]\n",
            " [ 0.          0.          0.          0.        ]\n",
            " [ 0.78539816  0.          0.          0.        ]\n",
            " [ 1.57079633  0.          0.          0.        ]\n",
            " [ 3.14159265  0.          0.          0.        ]\n",
            " [ 0.          0.          0.          0.        ]\n",
            " [ 0.          0.          0.          0.        ]\n",
            " [ 0.          0.          0.          0.        ]]\n",
            "[[-1.57079633]\n",
            " [-0.78539816]\n",
            " [ 0.        ]\n",
            " [ 0.78539816]\n",
            " [ 1.57079633]\n",
            " [ 3.14159265]]\n"
          ],
          "name": "stdout"
        }
      ]
    },
    {
      "cell_type": "code",
      "metadata": {
        "id": "EyLlcP13G2_I"
      },
      "source": [
        "import random\n",
        "import numpy as np\n"
      ],
      "execution_count": 13,
      "outputs": []
    },
    {
      "cell_type": "code",
      "metadata": {
        "id": "yq9b1fblHvx4"
      },
      "source": [
        "np.random.seed(0)\n",
        "class Layer_Dense:\n",
        "  def __init__(self, n_inputs, n_neurons):\n",
        "    self.weights = np.random.rand(n_inputs, n_neurons)\n",
        "    self.biases = np.zeros((1, n_neurons))\n",
        "  def forward(self, inputs):\n",
        "    self.output = np.dot(inputs, self.weights) + self.biases\n",
        "  \n",
        "\n",
        "layer1 = Layer_Dense(10,12)\n",
        "layer2 = Layer_Dense(12, 2)\n",
        "layer1.forward(sensors)\n",
        "print(layer1.output)"
      ],
      "execution_count": null,
      "outputs": []
    },
    {
      "cell_type": "code",
      "metadata": {
        "id": "hBL6oOwFT3HM"
      },
      "source": [
        "result = np.zeros(b.shape)\n",
        "print(result)"
      ],
      "execution_count": null,
      "outputs": []
    },
    {
      "cell_type": "code",
      "metadata": {
        "id": "NVHVpgDrkBo1",
        "outputId": "88531b77-3618-428a-a4e7-df0c0a59faeb",
        "colab": {
          "base_uri": "https://localhost:8080/",
          "height": 163
        }
      },
      "source": [
        "result[:rangeSensorDirections.shape[0],:rangeSensorDirections.shape[1]] = wedgeSensors"
      ],
      "execution_count": 43,
      "outputs": [
        {
          "output_type": "error",
          "ename": "IndexError",
          "evalue": "ignored",
          "traceback": [
            "\u001b[0;31m---------------------------------------------------------------------------\u001b[0m",
            "\u001b[0;31mIndexError\u001b[0m                                Traceback (most recent call last)",
            "\u001b[0;32m<ipython-input-43-f4d6ccdc5ef8>\u001b[0m in \u001b[0;36m<module>\u001b[0;34m()\u001b[0m\n\u001b[0;32m----> 1\u001b[0;31m \u001b[0mresult\u001b[0m\u001b[0;34m[\u001b[0m\u001b[0;34m:\u001b[0m\u001b[0mrangeSensorDirections\u001b[0m\u001b[0;34m.\u001b[0m\u001b[0mshape\u001b[0m\u001b[0;34m[\u001b[0m\u001b[0;36m0\u001b[0m\u001b[0;34m]\u001b[0m\u001b[0;34m,\u001b[0m\u001b[0;34m:\u001b[0m\u001b[0mrangeSensorDirections\u001b[0m\u001b[0;34m.\u001b[0m\u001b[0mshape\u001b[0m\u001b[0;34m[\u001b[0m\u001b[0;36m1\u001b[0m\u001b[0;34m]\u001b[0m\u001b[0;34m]\u001b[0m \u001b[0;34m=\u001b[0m \u001b[0mwedgeSensors\u001b[0m\u001b[0;34m\u001b[0m\u001b[0;34m\u001b[0m\u001b[0m\n\u001b[0m",
            "\u001b[0;31mIndexError\u001b[0m: tuple index out of range"
          ]
        }
      ]
    },
    {
      "cell_type": "code",
      "metadata": {
        "id": "dmCap9XOkuN5",
        "outputId": "6119f1c4-4d67-4acd-ba6f-753d13978674",
        "colab": {
          "base_uri": "https://localhost:8080/"
        }
      },
      "source": [
        "\n",
        "print(np.asarray(rangeSensorDirections).shape)\n",
        "type(rangeSensorDirections)"
      ],
      "execution_count": 34,
      "outputs": [
        {
          "output_type": "stream",
          "text": [
            "(1, 6)\n"
          ],
          "name": "stdout"
        },
        {
          "output_type": "execute_result",
          "data": {
            "text/plain": [
              "list"
            ]
          },
          "metadata": {
            "tags": []
          },
          "execution_count": 34
        }
      ]
    },
    {
      "cell_type": "code",
      "metadata": {
        "id": "l0qCYL6klGdw"
      },
      "source": [
        ""
      ],
      "execution_count": null,
      "outputs": []
    }
  ]
}